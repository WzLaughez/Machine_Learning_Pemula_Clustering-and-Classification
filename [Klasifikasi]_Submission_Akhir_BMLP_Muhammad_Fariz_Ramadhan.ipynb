{
  "cells": [
    {
      "cell_type": "markdown",
      "metadata": {
        "id": "fKADPWcFKlj3"
      },
      "source": [
        "# **1. Import Library**"
      ]
    },
    {
      "cell_type": "markdown",
      "metadata": {
        "id": "LgA3ERnVn84N"
      },
      "source": [
        "Pada tahap ini, Anda perlu mengimpor beberapa pustaka (library) Python yang dibutuhkan untuk analisis data dan pembangunan model machine learning."
      ]
    },
    {
      "cell_type": "code",
      "execution_count": 1,
      "metadata": {
        "id": "BlmvjLY9M4Yj"
      },
      "outputs": [],
      "source": [
        "#Type your code here\n",
        "import pandas as pd\n",
        "import numpy as np\n",
        "import seaborn as sns\n",
        "import matplotlib.pyplot as plt\n",
        "from sklearn.model_selection import train_test_split\n",
        "from sklearn.preprocessing import LabelEncoder, StandardScaler, MinMaxScaler\n",
        "from sklearn.neighbors import KNeighborsClassifier\n",
        "from sklearn.ensemble import RandomForestClassifier\n",
        "from sklearn.metrics import confusion_matrix, accuracy_score, precision_score, recall_score, f1_score"
      ]
    },
    {
      "cell_type": "markdown",
      "metadata": {
        "id": "f3YIEnAFKrKL"
      },
      "source": [
        "# **2. Memuat Dataset dari Hasil Clustering**"
      ]
    },
    {
      "cell_type": "markdown",
      "metadata": {
        "id": "Ey3ItwTen_7E"
      },
      "source": [
        "Memuat dataset hasil clustering dari file CSV ke dalam variabel DataFrame."
      ]
    },
    {
      "cell_type": "code",
      "execution_count": 2,
      "metadata": {
        "id": "GHCGNTyrM5fS"
      },
      "outputs": [
        {
          "data": {
            "text/html": [
              "<div>\n",
              "<style scoped>\n",
              "    .dataframe tbody tr th:only-of-type {\n",
              "        vertical-align: middle;\n",
              "    }\n",
              "\n",
              "    .dataframe tbody tr th {\n",
              "        vertical-align: top;\n",
              "    }\n",
              "\n",
              "    .dataframe thead th {\n",
              "        text-align: right;\n",
              "    }\n",
              "</style>\n",
              "<table border=\"1\" class=\"dataframe\">\n",
              "  <thead>\n",
              "    <tr style=\"text-align: right;\">\n",
              "      <th></th>\n",
              "      <th>Speed_Over_Ground_knots</th>\n",
              "      <th>Engine_Power_kW</th>\n",
              "      <th>Distance_Traveled_nm</th>\n",
              "      <th>Draft_meters</th>\n",
              "      <th>Cargo_Weight_tons</th>\n",
              "      <th>Operational_Cost_USD</th>\n",
              "      <th>Revenue_per_Voyage_USD</th>\n",
              "      <th>Turnaround_Time_hours</th>\n",
              "      <th>Efficiency_nm_per_kWh</th>\n",
              "      <th>Seasonal_Impact_Score</th>\n",
              "      <th>Weekly_Voyage_Count</th>\n",
              "      <th>Average_Load_Percentage</th>\n",
              "      <th>Ship_Type</th>\n",
              "      <th>Route_Type</th>\n",
              "      <th>Engine_Type</th>\n",
              "      <th>Maintenance_Status</th>\n",
              "      <th>Weather_Condition</th>\n",
              "      <th>Cluster</th>\n",
              "    </tr>\n",
              "  </thead>\n",
              "  <tbody>\n",
              "    <tr>\n",
              "      <th>0</th>\n",
              "      <td>12.597558</td>\n",
              "      <td>2062.983982</td>\n",
              "      <td>1030.943616</td>\n",
              "      <td>14.132284</td>\n",
              "      <td>1959.017882</td>\n",
              "      <td>483832.354540</td>\n",
              "      <td>292183.273104</td>\n",
              "      <td>25.867077</td>\n",
              "      <td>1.455179</td>\n",
              "      <td>1.415653</td>\n",
              "      <td>1.0</td>\n",
              "      <td>93.769249</td>\n",
              "      <td>Container Ship</td>\n",
              "      <td>Long-haul</td>\n",
              "      <td>Heavy Fuel Oil (HFO)</td>\n",
              "      <td>Critical</td>\n",
              "      <td>Moderate</td>\n",
              "      <td>3</td>\n",
              "    </tr>\n",
              "    <tr>\n",
              "      <th>1</th>\n",
              "      <td>10.387580</td>\n",
              "      <td>1796.057415</td>\n",
              "      <td>1060.486382</td>\n",
              "      <td>14.653083</td>\n",
              "      <td>162.394712</td>\n",
              "      <td>483388.000509</td>\n",
              "      <td>883765.787360</td>\n",
              "      <td>63.248196</td>\n",
              "      <td>0.290361</td>\n",
              "      <td>0.885648</td>\n",
              "      <td>6.0</td>\n",
              "      <td>93.895372</td>\n",
              "      <td>Fish Carrier</td>\n",
              "      <td>Short-haul</td>\n",
              "      <td>Steam Turbine</td>\n",
              "      <td>Good</td>\n",
              "      <td>Rough</td>\n",
              "      <td>0</td>\n",
              "    </tr>\n",
              "    <tr>\n",
              "      <th>2</th>\n",
              "      <td>20.749747</td>\n",
              "      <td>1648.556685</td>\n",
              "      <td>658.874144</td>\n",
              "      <td>7.199261</td>\n",
              "      <td>178.040917</td>\n",
              "      <td>448543.404044</td>\n",
              "      <td>394018.746904</td>\n",
              "      <td>49.418150</td>\n",
              "      <td>0.499595</td>\n",
              "      <td>1.405813</td>\n",
              "      <td>9.0</td>\n",
              "      <td>96.218244</td>\n",
              "      <td>Container Ship</td>\n",
              "      <td>Long-haul</td>\n",
              "      <td>Diesel</td>\n",
              "      <td>Fair</td>\n",
              "      <td>Moderate</td>\n",
              "      <td>3</td>\n",
              "    </tr>\n",
              "    <tr>\n",
              "      <th>3</th>\n",
              "      <td>21.055102</td>\n",
              "      <td>915.261795</td>\n",
              "      <td>1126.822519</td>\n",
              "      <td>11.789063</td>\n",
              "      <td>1737.385346</td>\n",
              "      <td>261349.605449</td>\n",
              "      <td>87551.375175</td>\n",
              "      <td>22.409110</td>\n",
              "      <td>0.702906</td>\n",
              "      <td>1.370704</td>\n",
              "      <td>1.0</td>\n",
              "      <td>66.193698</td>\n",
              "      <td>Bulk Carrier</td>\n",
              "      <td>Transoceanic</td>\n",
              "      <td>Steam Turbine</td>\n",
              "      <td>Fair</td>\n",
              "      <td>Moderate</td>\n",
              "      <td>1</td>\n",
              "    </tr>\n",
              "    <tr>\n",
              "      <th>4</th>\n",
              "      <td>13.742777</td>\n",
              "      <td>1089.721803</td>\n",
              "      <td>1445.281159</td>\n",
              "      <td>9.727833</td>\n",
              "      <td>260.595103</td>\n",
              "      <td>287718.375160</td>\n",
              "      <td>676121.459632</td>\n",
              "      <td>64.158231</td>\n",
              "      <td>1.331343</td>\n",
              "      <td>0.583383</td>\n",
              "      <td>8.0</td>\n",
              "      <td>80.008581</td>\n",
              "      <td>Fish Carrier</td>\n",
              "      <td>Transoceanic</td>\n",
              "      <td>Diesel</td>\n",
              "      <td>Fair</td>\n",
              "      <td>Moderate</td>\n",
              "      <td>0</td>\n",
              "    </tr>\n",
              "  </tbody>\n",
              "</table>\n",
              "</div>"
            ],
            "text/plain": [
              "   Speed_Over_Ground_knots  Engine_Power_kW  Distance_Traveled_nm  \\\n",
              "0                12.597558      2062.983982           1030.943616   \n",
              "1                10.387580      1796.057415           1060.486382   \n",
              "2                20.749747      1648.556685            658.874144   \n",
              "3                21.055102       915.261795           1126.822519   \n",
              "4                13.742777      1089.721803           1445.281159   \n",
              "\n",
              "   Draft_meters  Cargo_Weight_tons  Operational_Cost_USD  \\\n",
              "0     14.132284        1959.017882         483832.354540   \n",
              "1     14.653083         162.394712         483388.000509   \n",
              "2      7.199261         178.040917         448543.404044   \n",
              "3     11.789063        1737.385346         261349.605449   \n",
              "4      9.727833         260.595103         287718.375160   \n",
              "\n",
              "   Revenue_per_Voyage_USD  Turnaround_Time_hours  Efficiency_nm_per_kWh  \\\n",
              "0           292183.273104              25.867077               1.455179   \n",
              "1           883765.787360              63.248196               0.290361   \n",
              "2           394018.746904              49.418150               0.499595   \n",
              "3            87551.375175              22.409110               0.702906   \n",
              "4           676121.459632              64.158231               1.331343   \n",
              "\n",
              "   Seasonal_Impact_Score  Weekly_Voyage_Count  Average_Load_Percentage  \\\n",
              "0               1.415653                  1.0                93.769249   \n",
              "1               0.885648                  6.0                93.895372   \n",
              "2               1.405813                  9.0                96.218244   \n",
              "3               1.370704                  1.0                66.193698   \n",
              "4               0.583383                  8.0                80.008581   \n",
              "\n",
              "        Ship_Type    Route_Type           Engine_Type Maintenance_Status  \\\n",
              "0  Container Ship     Long-haul  Heavy Fuel Oil (HFO)           Critical   \n",
              "1    Fish Carrier    Short-haul         Steam Turbine               Good   \n",
              "2  Container Ship     Long-haul                Diesel               Fair   \n",
              "3    Bulk Carrier  Transoceanic         Steam Turbine               Fair   \n",
              "4    Fish Carrier  Transoceanic                Diesel               Fair   \n",
              "\n",
              "  Weather_Condition  Cluster  \n",
              "0          Moderate        3  \n",
              "1             Rough        0  \n",
              "2          Moderate        3  \n",
              "3          Moderate        1  \n",
              "4          Moderate        0  "
            ]
          },
          "execution_count": 2,
          "metadata": {},
          "output_type": "execute_result"
        }
      ],
      "source": [
        "#Memuat Dataset hasil clustering\n",
        "df = pd.read_csv('Ship_Performance_Clustering_Result.csv')\n",
        "df.head()"
      ]
    },
    {
      "cell_type": "markdown",
      "metadata": {
        "id": "KkPem5eWL2UP"
      },
      "source": [
        "# **3. Data Splitting**"
      ]
    },
    {
      "cell_type": "markdown",
      "metadata": {
        "id": "YYj1rl_JNI9Y"
      },
      "source": [
        "Tahap Data Splitting bertujuan untuk memisahkan dataset menjadi dua bagian: data latih (training set) dan data uji (test set)."
      ]
    },
    {
      "cell_type": "markdown",
      "metadata": {},
      "source": [
        "Mengubah data kategorikal menjadi numerik"
      ]
    },
    {
      "cell_type": "code",
      "execution_count": 3,
      "metadata": {},
      "outputs": [
        {
          "data": {
            "text/html": [
              "<div>\n",
              "<style scoped>\n",
              "    .dataframe tbody tr th:only-of-type {\n",
              "        vertical-align: middle;\n",
              "    }\n",
              "\n",
              "    .dataframe tbody tr th {\n",
              "        vertical-align: top;\n",
              "    }\n",
              "\n",
              "    .dataframe thead th {\n",
              "        text-align: right;\n",
              "    }\n",
              "</style>\n",
              "<table border=\"1\" class=\"dataframe\">\n",
              "  <thead>\n",
              "    <tr style=\"text-align: right;\">\n",
              "      <th></th>\n",
              "      <th>Speed_Over_Ground_knots</th>\n",
              "      <th>Engine_Power_kW</th>\n",
              "      <th>Distance_Traveled_nm</th>\n",
              "      <th>Draft_meters</th>\n",
              "      <th>Cargo_Weight_tons</th>\n",
              "      <th>Operational_Cost_USD</th>\n",
              "      <th>Revenue_per_Voyage_USD</th>\n",
              "      <th>Turnaround_Time_hours</th>\n",
              "      <th>Efficiency_nm_per_kWh</th>\n",
              "      <th>Seasonal_Impact_Score</th>\n",
              "      <th>Weekly_Voyage_Count</th>\n",
              "      <th>Average_Load_Percentage</th>\n",
              "      <th>Ship_Type</th>\n",
              "      <th>Route_Type</th>\n",
              "      <th>Engine_Type</th>\n",
              "      <th>Maintenance_Status</th>\n",
              "      <th>Weather_Condition</th>\n",
              "      <th>Cluster</th>\n",
              "    </tr>\n",
              "  </thead>\n",
              "  <tbody>\n",
              "    <tr>\n",
              "      <th>0</th>\n",
              "      <td>12.597558</td>\n",
              "      <td>2062.983982</td>\n",
              "      <td>1030.943616</td>\n",
              "      <td>14.132284</td>\n",
              "      <td>1959.017882</td>\n",
              "      <td>483832.354540</td>\n",
              "      <td>292183.273104</td>\n",
              "      <td>25.867077</td>\n",
              "      <td>1.455179</td>\n",
              "      <td>1.415653</td>\n",
              "      <td>1.0</td>\n",
              "      <td>93.769249</td>\n",
              "      <td>1</td>\n",
              "      <td>1</td>\n",
              "      <td>1</td>\n",
              "      <td>0</td>\n",
              "      <td>1</td>\n",
              "      <td>3</td>\n",
              "    </tr>\n",
              "    <tr>\n",
              "      <th>1</th>\n",
              "      <td>10.387580</td>\n",
              "      <td>1796.057415</td>\n",
              "      <td>1060.486382</td>\n",
              "      <td>14.653083</td>\n",
              "      <td>162.394712</td>\n",
              "      <td>483388.000509</td>\n",
              "      <td>883765.787360</td>\n",
              "      <td>63.248196</td>\n",
              "      <td>0.290361</td>\n",
              "      <td>0.885648</td>\n",
              "      <td>6.0</td>\n",
              "      <td>93.895372</td>\n",
              "      <td>2</td>\n",
              "      <td>2</td>\n",
              "      <td>2</td>\n",
              "      <td>2</td>\n",
              "      <td>2</td>\n",
              "      <td>0</td>\n",
              "    </tr>\n",
              "    <tr>\n",
              "      <th>2</th>\n",
              "      <td>20.749747</td>\n",
              "      <td>1648.556685</td>\n",
              "      <td>658.874144</td>\n",
              "      <td>7.199261</td>\n",
              "      <td>178.040917</td>\n",
              "      <td>448543.404044</td>\n",
              "      <td>394018.746904</td>\n",
              "      <td>49.418150</td>\n",
              "      <td>0.499595</td>\n",
              "      <td>1.405813</td>\n",
              "      <td>9.0</td>\n",
              "      <td>96.218244</td>\n",
              "      <td>1</td>\n",
              "      <td>1</td>\n",
              "      <td>0</td>\n",
              "      <td>1</td>\n",
              "      <td>1</td>\n",
              "      <td>3</td>\n",
              "    </tr>\n",
              "    <tr>\n",
              "      <th>3</th>\n",
              "      <td>21.055102</td>\n",
              "      <td>915.261795</td>\n",
              "      <td>1126.822519</td>\n",
              "      <td>11.789063</td>\n",
              "      <td>1737.385346</td>\n",
              "      <td>261349.605449</td>\n",
              "      <td>87551.375175</td>\n",
              "      <td>22.409110</td>\n",
              "      <td>0.702906</td>\n",
              "      <td>1.370704</td>\n",
              "      <td>1.0</td>\n",
              "      <td>66.193698</td>\n",
              "      <td>0</td>\n",
              "      <td>3</td>\n",
              "      <td>2</td>\n",
              "      <td>1</td>\n",
              "      <td>1</td>\n",
              "      <td>1</td>\n",
              "    </tr>\n",
              "    <tr>\n",
              "      <th>4</th>\n",
              "      <td>13.742777</td>\n",
              "      <td>1089.721803</td>\n",
              "      <td>1445.281159</td>\n",
              "      <td>9.727833</td>\n",
              "      <td>260.595103</td>\n",
              "      <td>287718.375160</td>\n",
              "      <td>676121.459632</td>\n",
              "      <td>64.158231</td>\n",
              "      <td>1.331343</td>\n",
              "      <td>0.583383</td>\n",
              "      <td>8.0</td>\n",
              "      <td>80.008581</td>\n",
              "      <td>2</td>\n",
              "      <td>3</td>\n",
              "      <td>0</td>\n",
              "      <td>1</td>\n",
              "      <td>1</td>\n",
              "      <td>0</td>\n",
              "    </tr>\n",
              "  </tbody>\n",
              "</table>\n",
              "</div>"
            ],
            "text/plain": [
              "   Speed_Over_Ground_knots  Engine_Power_kW  Distance_Traveled_nm  \\\n",
              "0                12.597558      2062.983982           1030.943616   \n",
              "1                10.387580      1796.057415           1060.486382   \n",
              "2                20.749747      1648.556685            658.874144   \n",
              "3                21.055102       915.261795           1126.822519   \n",
              "4                13.742777      1089.721803           1445.281159   \n",
              "\n",
              "   Draft_meters  Cargo_Weight_tons  Operational_Cost_USD  \\\n",
              "0     14.132284        1959.017882         483832.354540   \n",
              "1     14.653083         162.394712         483388.000509   \n",
              "2      7.199261         178.040917         448543.404044   \n",
              "3     11.789063        1737.385346         261349.605449   \n",
              "4      9.727833         260.595103         287718.375160   \n",
              "\n",
              "   Revenue_per_Voyage_USD  Turnaround_Time_hours  Efficiency_nm_per_kWh  \\\n",
              "0           292183.273104              25.867077               1.455179   \n",
              "1           883765.787360              63.248196               0.290361   \n",
              "2           394018.746904              49.418150               0.499595   \n",
              "3            87551.375175              22.409110               0.702906   \n",
              "4           676121.459632              64.158231               1.331343   \n",
              "\n",
              "   Seasonal_Impact_Score  Weekly_Voyage_Count  Average_Load_Percentage  \\\n",
              "0               1.415653                  1.0                93.769249   \n",
              "1               0.885648                  6.0                93.895372   \n",
              "2               1.405813                  9.0                96.218244   \n",
              "3               1.370704                  1.0                66.193698   \n",
              "4               0.583383                  8.0                80.008581   \n",
              "\n",
              "   Ship_Type  Route_Type  Engine_Type  Maintenance_Status  Weather_Condition  \\\n",
              "0          1           1            1                   0                  1   \n",
              "1          2           2            2                   2                  2   \n",
              "2          1           1            0                   1                  1   \n",
              "3          0           3            2                   1                  1   \n",
              "4          2           3            0                   1                  1   \n",
              "\n",
              "   Cluster  \n",
              "0        3  \n",
              "1        0  \n",
              "2        3  \n",
              "3        1  \n",
              "4        0  "
            ]
          },
          "execution_count": 3,
          "metadata": {},
          "output_type": "execute_result"
        }
      ],
      "source": [
        "#Label Encoding all categorical data\n",
        "\n",
        "label_encoder = LabelEncoder()\n",
        "categorical_cols = df.select_dtypes(include='object').columns.tolist()\n",
        "for col in categorical_cols:\n",
        "    df[col] = label_encoder.fit_transform(df[col])\n",
        "df.head()\n"
      ]
    },
    {
      "cell_type": "code",
      "execution_count": 4,
      "metadata": {
        "id": "OubAW-7ONKVj"
      },
      "outputs": [],
      "source": [
        "#Splitting Dataset\n",
        "X = df.drop(columns='Cluster')\n",
        "y = df['Cluster']\n",
        "X_train, X_test, y_train, y_test = train_test_split(X, y, test_size=0.2, random_state=42)"
      ]
    },
    {
      "cell_type": "code",
      "execution_count": 5,
      "metadata": {},
      "outputs": [
        {
          "name": "stdout",
          "output_type": "stream",
          "text": [
            "Training set shape: X_train=(2188, 17), y_train=(2188,)\n",
            "Test set shape: X_test=(548, 17), y_test=(548,)\n"
          ]
        }
      ],
      "source": [
        "\n",
        "print(f\"Training set shape: X_train={X_train.shape}, y_train={y_train.shape}\")\n",
        "print(f\"Test set shape: X_test={X_test.shape}, y_test={y_test.shape}\")"
      ]
    },
    {
      "cell_type": "markdown",
      "metadata": {
        "id": "IVPbB03CMhTT"
      },
      "source": [
        "# **4. Membangun Model Klasifikasi**\n"
      ]
    },
    {
      "cell_type": "markdown",
      "metadata": {
        "id": "Ned1pL9zMmBK"
      },
      "source": [
        "## **a. Membangun Model Klasifikasi**"
      ]
    },
    {
      "cell_type": "markdown",
      "metadata": {
        "id": "WAWzPOE4Nkti"
      },
      "source": [
        "Setelah memilih algoritma klasifikasi yang sesuai, langkah selanjutnya adalah melatih model menggunakan data latih.\n",
        "\n",
        "Berikut adalah rekomendasi tahapannya.\n",
        "1. Pilih algoritma klasifikasi yang sesuai, seperti Logistic Regression, Decision Tree, Random Forest, atau K-Nearest Neighbors (KNN).\n",
        "2. Latih model menggunakan data latih."
      ]
    },
    {
      "cell_type": "code",
      "execution_count": 6,
      "metadata": {
        "id": "4JYxBe87NLDk"
      },
      "outputs": [],
      "source": [
        "#Membangun model klasifikasi dengan K-Nearest Neighbors\n",
        "from sklearn.tree import DecisionTreeClassifier\n",
        "\n",
        "\n",
        "knn = KNeighborsClassifier(n_neighbors=5)\n",
        "knn.fit(X_train, y_train)\n",
        "rf = RandomForestClassifier().fit(X_train, y_train)\n",
        "dt = DecisionTreeClassifier().fit(X_train, y_train)"
      ]
    },
    {
      "cell_type": "markdown",
      "metadata": {
        "id": "seYoHNY3XU1y"
      },
      "source": [
        "Tulis narasi atau penjelasan algoritma yang Anda gunakan."
      ]
    },
    {
      "cell_type": "markdown",
      "metadata": {},
      "source": [
        "Saya menggunakan algoritma KNN ,Decision Tree dan Random Forest dalam membangun model klasifikasi dimana KNN merupakan \n",
        "algoritma yang membuat data menentukan jarak dari setiap tetangga nya dengan jumlah N yang telah ditentukan\n",
        "sebelumnya\n",
        "Decision Tree merupakan algoritma dengan memilih kategori dengan percabangan dimana ada 3 komponen yaitu root node node dan leaf node\n",
        "random Forest merupakan algoritma dengan memanfaatkan beberapa decision tree yang mengklasifikasikan\n",
        "kategori dengan menggunakan leaf and node "
      ]
    },
    {
      "cell_type": "markdown",
      "metadata": {
        "id": "ergzChZFEL-O"
      },
      "source": [
        "## **b. Evaluasi Model Klasifikasi**"
      ]
    },
    {
      "cell_type": "markdown",
      "metadata": {
        "id": "zOm68u-7NpLT"
      },
      "source": [
        "Berikut adalah **rekomendasi** tahapannya.\n",
        "1. Lakukan prediksi menggunakan data uji.\n",
        "2. Hitung metrik evaluasi seperti Accuracy dan F1-Score (Opsional: Precision dan Recall).\n",
        "3. Buat confusion matrix untuk melihat detail prediksi benar dan salah."
      ]
    },
    {
      "cell_type": "code",
      "execution_count": 7,
      "metadata": {
        "id": "tMq4QAssNLip"
      },
      "outputs": [
        {
          "name": "stdout",
          "output_type": "stream",
          "text": [
            "                       Model  Accuracy  Precision    Recall  F1-Score\n",
            "0  K-Nearest Neighbors (KNN)  0.246350   0.257012  0.254633  0.246557\n",
            "1         Random Forest (RF)  1.000000   1.000000  1.000000  1.000000\n",
            "2         Decision Tree (DT)  0.994526   0.993717  0.994560  0.994096\n"
          ]
        }
      ],
      "source": [
        "#Type your code here\n",
        "from sklearn.metrics import accuracy_score, precision_score, recall_score, f1_score, classification_report, confusion_matrix\n",
        "\n",
        "def evaluate_model(model, X_test, y_test):\n",
        "    y_pred = model.predict(X_test)\n",
        "    cm = confusion_matrix(y_test, y_pred)\n",
        "    \n",
        "    # Periksa apakah klasifikasi biner atau multi-kelas\n",
        "    average_type = 'binary' if len(set(y_test)) == 2 else 'macro'\n",
        "\n",
        "    results = {\n",
        "        'Confusion Matrix': cm,\n",
        "        'Accuracy': accuracy_score(y_test, y_pred),\n",
        "        'Precision': precision_score(y_test, y_pred, average=average_type, zero_division=0),\n",
        "        'Recall': recall_score(y_test, y_pred, average=average_type, zero_division=0),\n",
        "        'F1-Score': f1_score(y_test, y_pred, average=average_type)\n",
        "    }\n",
        "    return results\n",
        "\n",
        " \n",
        "# Mengevaluasi setiap model dan mengumpulkan hasilnya\n",
        "results = {\n",
        "    'K-Nearest Neighbors (KNN)': evaluate_model(knn, X_test, y_test),\n",
        "    'Random Forest (RF)': evaluate_model(rf, X_test, y_test),\n",
        "    'Decision Tree (DT)': evaluate_model(dt, X_test, y_test),\n",
        "}\n",
        " \n",
        "# Buat DataFrame untuk meringkas hasil\n",
        "summary_df = pd.DataFrame(columns=['Model', 'Accuracy', 'Precision', 'Recall', 'F1-Score'])\n",
        " \n",
        "# Isi DataFrame dengan hasil\n",
        "rows = []\n",
        "for model_name, metrics in results.items():\n",
        "    rows.append({\n",
        "        'Model': model_name,\n",
        "        'Accuracy': metrics['Accuracy'],\n",
        "        'Precision': metrics['Precision'],\n",
        "        'Recall': metrics['Recall'],\n",
        "        'F1-Score': metrics['F1-Score']\n",
        "    })\n",
        " \n",
        " \n",
        "# Konversi daftar kamus ke DataFrame\n",
        "summary_df = pd.DataFrame(rows)\n",
        " \n",
        "# Tampilkan DataFrame\n",
        "print(summary_df)"
      ]
    },
    {
      "cell_type": "markdown",
      "metadata": {
        "id": "H4_9OwrsXZlz"
      },
      "source": [
        "Tulis hasil evaluasi algoritma yang digunakan, jika Anda menggunakan 2 algoritma, maka bandingkan hasilnya."
      ]
    },
    {
      "cell_type": "markdown",
      "metadata": {},
      "source": [
        "Tanpa normalisasi, KNN memiliki akurasi sangat rendah (28.83%) karena perbedaan skala fitur yang besar membuat perhitungan jarak tidak optimal.\n",
        "Random Forest dan Decision Tree unggul dalam akurasi dan F1 Score karena lebih robust terhadap perbedaan skala fitur\n",
        "\n",
        "Model terbaik untuk Data ini adalah Random Forest"
      ]
    },
    {
      "cell_type": "markdown",
      "metadata": {
        "id": "ph9yIYDXEPuB"
      },
      "source": [
        "## **c. Tuning Model Klasifikasi (Optional)**"
      ]
    },
    {
      "cell_type": "markdown",
      "metadata": {
        "id": "-Bikx3LINv5e"
      },
      "source": [
        "Gunakan GridSearchCV, RandomizedSearchCV, atau metode lainnya untuk mencari kombinasi hyperparameter terbaik"
      ]
    },
    {
      "cell_type": "code",
      "execution_count": 8,
      "metadata": {
        "id": "winbFzb8NL95"
      },
      "outputs": [
        {
          "name": "stdout",
          "output_type": "stream",
          "text": [
            "Best Parameters: {'n_estimators': 100, 'min_samples_split': 5, 'min_samples_leaf': 4, 'max_features': None, 'max_depth': 20}\n",
            "Best Accuracy: 0.9972571392746309\n"
          ]
        }
      ],
      "source": [
        "#Kita akan menggunakan RandomizedSearchCV untuk mencari parameter terbaik\n",
        "from sklearn.model_selection import RandomizedSearchCV\n",
        "param_dist = {\n",
        "    'n_estimators': [50, 100, 200, 300, 500],\n",
        "    'max_depth': [None, 10, 20, 30, 50],\n",
        "    'min_samples_split': [2, 5, 10],\n",
        "    'min_samples_leaf': [1, 2, 4],\n",
        "    'max_features': ['sqrt', 'log2', None]\n",
        "}\n",
        "\n",
        "rf = RandomForestClassifier(random_state=42)\n",
        "\n",
        "random_search = RandomizedSearchCV(estimator=rf,\n",
        "    param_distributions=param_dist,\n",
        "    n_iter=10,  # Jumlah kombinasi yang diuji\n",
        "    cv=5,  # 5-fold cross-validation\n",
        "    scoring='accuracy',\n",
        "    n_jobs=-1,  # Gunakan semua core CPU\n",
        "    random_state=42)\n",
        "random_search.fit(X_train, y_train)\n",
        "\n",
        "\n",
        "# Tampilkan hyperparameter terbaik dan akurasi terbaik\n",
        "print(\"Best Parameters:\", random_search.best_params_)\n",
        "print(\"Best Accuracy:\", random_search.best_score_)\n",
        "\n",
        "# Gunakan model terbaik untuk prediksi\n",
        "best_rf = random_search.best_estimator_\n",
        "y_pred = best_rf.predict(X_test)\n"
      ]
    },
    {
      "cell_type": "markdown",
      "metadata": {
        "id": "hE7pqlEPEYzI"
      },
      "source": [
        "## **d. Evaluasi Model Klasifikasi setelah Tuning (Optional)**"
      ]
    },
    {
      "cell_type": "markdown",
      "metadata": {
        "id": "feaPESoeN0zz"
      },
      "source": [
        "Berikut adalah rekomendasi tahapannya.\n",
        "1. Gunakan model dengan hyperparameter terbaik.\n",
        "2. Hitung ulang metrik evaluasi untuk melihat apakah ada peningkatan performa."
      ]
    },
    {
      "cell_type": "code",
      "execution_count": 9,
      "metadata": {
        "id": "HTXZRvEeNMb1"
      },
      "outputs": [
        {
          "name": "stdout",
          "output_type": "stream",
          "text": [
            "Final Accuracy on Test Set: 1.0\n",
            "Classification Report:\n",
            "               precision    recall  f1-score   support\n",
            "\n",
            "           0       1.00      1.00      1.00       101\n",
            "           1       1.00      1.00      1.00       132\n",
            "           2       1.00      1.00      1.00       141\n",
            "           3       1.00      1.00      1.00       174\n",
            "\n",
            "    accuracy                           1.00       548\n",
            "   macro avg       1.00      1.00      1.00       548\n",
            "weighted avg       1.00      1.00      1.00       548\n",
            "\n"
          ]
        }
      ],
      "source": [
        "#Type your code here\n",
        "y_pred = best_rf.predict(X_test)\n",
        "\n",
        "# Evaluasi model\n",
        "from sklearn.metrics import accuracy_score, confusion_matrix\n",
        "\n",
        "print(\"Final Accuracy on Test Set:\", accuracy_score(y_test, y_pred))\n",
        "print(\"Classification Report:\\n\", classification_report(y_test, y_pred))"
      ]
    },
    {
      "cell_type": "markdown",
      "metadata": {
        "id": "ZRsOdm4uEgAW"
      },
      "source": [
        "## **e. Analisis Hasil Evaluasi Model Klasifikasi**"
      ]
    },
    {
      "cell_type": "markdown",
      "metadata": {
        "id": "Hm3BhSi6N4_l"
      },
      "source": [
        "\n",
        "1. Hasil evaluasi dari model RF sebelum hypertuning dan sesudah meningkat karena sebelumnya\n",
        "hasil tersebut sekitar dengan rata-rata 0.98 sedangkan setelah di Tuning model meningkat menjadi\n",
        "0.99 secara keseluruhan\n",
        "2. Secara keseluruhan model Random Forest merupakan model yang terbaik dari 3 model yang telah\n",
        "dicoba sebelumnya dengan nilai 0.98 sebelum di Tuning dan 0.99 setelah di HyperParamater Tuning\n",
        "3. Saran selanjutnya dengan mencoba KNN dengan menormalisasikan dan scaling data numerik karena\n",
        "hal tersebut merupakan penyebab model KNN rendah pada percobaan pertama"
      ]
    }
  ],
  "metadata": {
    "colab": {
      "provenance": []
    },
    "kernelspec": {
      "display_name": "Submission_MachineLearningPemula-2MoKtk42",
      "language": "python",
      "name": "python3"
    },
    "language_info": {
      "codemirror_mode": {
        "name": "ipython",
        "version": 3
      },
      "file_extension": ".py",
      "mimetype": "text/x-python",
      "name": "python",
      "nbconvert_exporter": "python",
      "pygments_lexer": "ipython3",
      "version": "3.13.0"
    }
  },
  "nbformat": 4,
  "nbformat_minor": 0
}
